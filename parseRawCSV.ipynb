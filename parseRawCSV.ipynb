{
 "cells": [
  {
   "cell_type": "code",
   "execution_count": 135,
   "metadata": {
    "collapsed": true
   },
   "outputs": [],
   "source": [
    "import csv\n",
    "import re\n",
    "import pandas as pd\n",
    "import random\n",
    "import copy\n",
    "import nltk\n",
    "\n",
    "NAME = \"fleep\"\n",
    "GENDER = \"M\"\n",
    "CLASS = \"hunter\"\n",
    "RACE = \"dwarf\"\n",
    "\n",
    "quests = pd.read_csv(\"quests.csv\")\n",
    "#print(list(quests.columns.values))\n",
    "details = quests.Details\n",
    "rawStr = \"\"\n",
    "for d in details:\n",
    "    rawStr += str(d)"
   ]
  },
  {
   "cell_type": "code",
   "execution_count": 284,
   "metadata": {
    "collapsed": false
   },
   "outputs": [],
   "source": [
    "def get_ran_word(cfdist,word,interest):\n",
    "    if interest in cfd[word].keys() and random.random() > 0.1 and interest is not word:\n",
    "        return interest\n",
    "    d = copy.copy(cfdist[word])\n",
    "    lend = len(d)\n",
    "    if lend == 0:\n",
    "        return random.choice([\"the\",\"of\"])\n",
    "    if lend > 10:\n",
    "        sampleNum = lend // 5; #sample from the top 20% words\n",
    "    else:\n",
    "        sampleNum = lend\n",
    "    words = []\n",
    "    for i in range(sampleNum):\n",
    "        if(lend == 1):\n",
    "            words.append(d.keys()[0])\n",
    "            break;\n",
    "        words.append(d.max());\n",
    "        del(d[words[i]]);\n",
    "    return random.choice(words)\n",
    "\n",
    "def generate_ran_sentence(cfdist, word, interest=\"\", maxwords = 15):#, num=15):\n",
    "    i = 1\n",
    "    initword = word\n",
    "    words = [word]\n",
    "    word = get_ran_word(cfdist,word,interest)\n",
    "    while word is not \".\" and i < maxwords:\n",
    "        words.append(word)\n",
    "        word = get_ran_word(cfdist,word,interest)\n",
    "        i += 1\n",
    "    if interest is not \"\" and interest not in words: #keep going til you get an interest\n",
    "        return generate_ran_sentence(cfdist,initword,interest=interest,maxwords=maxwords)\n",
    "    return words\n",
    "        \n",
    "def format_simple(document):\n",
    "    doc = document.lower()                                           #convert to lower case\n",
    "    doc = re.sub(r'[\\?\\{\\}\\[\\]\\|\\(\\)!,:-;\\$\\\"<>]',' ',doc)           #remove punctuations\n",
    "    doc = re.sub(r'[\\']','',doc)                                     # remove appostrophes\n",
    "    doc = re.sub(r'\\.', ' . ', doc)                                  #add spaces between periods\n",
    "    doc = re.sub(r'[\\s]+',' ', doc)                                  #remove whitespace clumps\n",
    "    doc =  doc.strip()                                               #remove trailing whitespace\n",
    "    return doc\n",
    "\n",
    "def replace_variables(document):\n",
    "    doc = document.lower()\n",
    "    if GENDER == \"M\":\n",
    "        doc = re.sub(r'\\$g(.*):(.*);',r'\\g<1>',doc)\n",
    "    else:\n",
    "        doc = re.sub(r'\\$g(.*):(.*);',r'\\g<2>',doc)\n",
    "    doc = re.sub(r'\\$c',CLASS,doc)\n",
    "    doc = re.sub(r'\\$n',NAME,doc)\n",
    "    doc = re.sub(r'\\$r',RACE,doc)\n",
    "    return doc\n",
    "    \n",
    "def format_simple_keep_punctuation(document):\n",
    "    doc = document.lower()                                           #convert to lower case\n",
    "    doc = re.sub(r'[\\[\\]\\|<>-]','',doc)                                  #remove unneeded punctuations\n",
    "    doc = re.sub(r'([\\.\\?\\{\\}\\[\\]\\(\\)!,:-;\\$\\\"\\'])',r' \\g<1> ',doc)           #put spaces between tagged punctuations\n",
    "    doc = re.sub(r'[\\s]+',' ', doc)                                  #remove whitespace clumps\n",
    "    doc =  doc.strip()                                               #remove trailing whitespace\n",
    "    return doc"
   ]
  },
  {
   "cell_type": "code",
   "execution_count": 96,
   "metadata": {
    "collapsed": true
   },
   "outputs": [],
   "source": [
    "# rawStr = replace_variables(rawStr)\n",
    "# rawStr = format_simple_keep_punctuation(rawStr)\n",
    "# tokens = rawStr.split(' ')\n",
    "# text = nltk.Text(tokens)\n",
    "\n",
    "alldeets = \"\".join(str(d) for d in details)\n",
    "alldeets = replace_variables(alldeets)\n",
    "#construct text_nopunct\n",
    "rawStr = format_simple(alldeets)\n",
    "tokens_nopunct = rawStr.split(' ')\n",
    "text_nopunct = nltk.Text(tokens_nopunct)\n",
    "#construct text (with punctuation)\n",
    "rawStr = format_simple_keep_punctuation(alldeets)\n",
    "tokens = rawStr.split(' ')\n",
    "text = nltk.Text(tokens_nopunct)\n",
    "\n",
    "# get cfds from bigrams\n",
    "bigrams_nopunct = nltk.bigrams(text_nopunct)\n",
    "cfd_nopunct = nltk.ConditionalFreqDist(bigrams_nopunct)\n",
    "\n",
    "bigrams = nltk.bigrams(text)\n",
    "cfd = nltk.ConditionalFreqDist(bigrams)"
   ]
  },
  {
   "cell_type": "code",
   "execution_count": 162,
   "metadata": {
    "collapsed": false
   },
   "outputs": [
    {
     "name": "stdout",
     "output_type": "stream",
     "text": [
      "0\n"
     ]
    }
   ],
   "source": [
    "postag = nltk.pos_tag(text)"
   ]
  },
  {
   "cell_type": "code",
   "execution_count": 31,
   "metadata": {
    "collapsed": false
   },
   "outputs": [
    {
     "name": "stdout",
     "output_type": "stream",
     "text": [
      "[('NN', 114702), ('IN', 64822), ('DT', 59454), ('.', 48998), ('VB', 42854), ('PRP', 42750), ('JJ', 41764), ('NNS', 30406), ('RB', 26745), (',', 24858), ('TO', 21381), ('VBP', 20310), ('CC', 16118), ('PRP$', 14782), ('VBZ', 13136), (\"''\", 12782), ('VBN', 12530), ('MD', 12395), ('VBD', 9820), ('VBG', 8843), ('POS', 3429), ('RP', 3099), ('CD', 2779), ('WRB', 2394), ('WP', 2383), ('WDT', 1857), ('JJR', 1529), (':', 1479), ('JJS', 1389), ('EX', 1274), ('RBR', 656), ('PDT', 452), ('RBS', 335), ('UH', 281), ('NNP', 247), ('FW', 167), ('$', 165), ('WP$', 17), (')', 16), ('(', 16), ('NNPS', 1), ('SYM', 1)]\n"
     ]
    }
   ],
   "source": [
    "tag_fd = nltk.FreqDist(tag for (word, tag) in postag)\n",
    "print(tag_fd.most_common())\n",
    "word_fd = nltk.FreqDist(word for (word, tag) in postag)\n",
    "#print(word_fd.most_common())"
   ]
  },
  {
   "cell_type": "code",
   "execution_count": 203,
   "metadata": {
    "collapsed": false
   },
   "outputs": [
    {
     "name": "stdout",
     "output_type": "stream",
     "text": [
      "yes\n"
     ]
    }
   ],
   "source": [
    "w = \"hello\"\n",
    "# print(cols)\n",
    "# print(cfd[w])\n",
    "# print(cfd[w].tabulate(10))\n",
    "# print(cfd[w].keys()[:10])\n",
    "# print(cfd[w].max())\n",
    "if 'scourge' in cfd[w].keys() and random.random() > 0.5:\n",
    "    print 'yes'\n",
    "else:\n",
    "    print 'no'"
   ]
  },
  {
   "cell_type": "code",
   "execution_count": 296,
   "metadata": {
    "collapsed": false
   },
   "outputs": [],
   "source": [
    "alldeets = \"\".join(str(d) for d in details)\n",
    "alldeets = replace_variables(alldeets)\n",
    "#construct text_nopunct\n",
    "rawStr = format_simple(alldeets)\n",
    "tokens_nopunct = rawStr.split(' ')\n",
    "text_nopunct = nltk.Text(tokens_nopunct)\n",
    "#construct text (with punctuation)\n",
    "rawStr = format_simple_keep_punctuation(alldeets)\n",
    "tokens = rawStr.split(' ')\n",
    "text = nltk.Text(tokens_nopunct)\n",
    "\n",
    "# get cfds from bigrams\n",
    "bigrams_nopunct = nltk.bigrams(text_nopunct)\n",
    "cfd_nopunct = nltk.ConditionalFreqDist(bigrams_nopunct)\n",
    "\n",
    "bigrams = nltk.bigrams(text)\n",
    "cfd = nltk.ConditionalFreqDist(bigrams)"
   ]
  },
  {
   "cell_type": "code",
   "execution_count": 297,
   "metadata": {
    "collapsed": false
   },
   "outputs": [
    {
     "name": "stdout",
     "output_type": "stream",
     "text": [
      "mathias shaw head of it close and wait for alliance has taken the beads they. zul gurub and it shouldnt while the proper burial cave to mathias shaw check the.\n"
     ]
    }
   ],
   "source": [
    "sentences = []\n",
    "sentences.append(\" \".join(generate_ran_sentence(cfd_nopunct, \"mathias\",interest=\"beads\")))\n",
    "sentences.append(\" \".join(generate_ran_sentence(cfd_nopunct, \"zul\",interest=\"mathias\")))\n",
    "print(\". \".join(sentences) + \".\")"
   ]
  },
  {
   "cell_type": "code",
   "execution_count": 187,
   "metadata": {
    "collapsed": false
   },
   "outputs": [
    {
     "ename": "KeyboardInterrupt",
     "evalue": "",
     "output_type": "error",
     "traceback": [
      "\u001b[1;31m---------------------------------------------------------------------------\u001b[0m",
      "\u001b[1;31mKeyboardInterrupt\u001b[0m                         Traceback (most recent call last)",
      "\u001b[1;32m<ipython-input-187-ba3c7bf3ef4c>\u001b[0m in \u001b[0;36m<module>\u001b[1;34m()\u001b[0m\n\u001b[0;32m     67\u001b[0m \u001b[1;31m#file.close()\u001b[0m\u001b[1;33m\u001b[0m\u001b[1;33m\u001b[0m\u001b[0m\n\u001b[0;32m     68\u001b[0m \u001b[0mfulllist\u001b[0m \u001b[1;33m=\u001b[0m \u001b[1;33m[\u001b[0m\u001b[1;33m]\u001b[0m\u001b[1;33m\u001b[0m\u001b[0m\n\u001b[1;32m---> 69\u001b[1;33m \u001b[1;32mfor\u001b[0m \u001b[0msentence\u001b[0m \u001b[1;32min\u001b[0m \u001b[0mgenerate\u001b[0m\u001b[1;33m(\u001b[0m\u001b[0mgrammar\u001b[0m\u001b[1;33m)\u001b[0m\u001b[1;33m:\u001b[0m\u001b[1;33m\u001b[0m\u001b[0m\n\u001b[0m\u001b[0;32m     70\u001b[0m     \u001b[0mfulllist\u001b[0m\u001b[1;33m.\u001b[0m\u001b[0mappend\u001b[0m\u001b[1;33m(\u001b[0m\u001b[0msentence\u001b[0m\u001b[1;33m)\u001b[0m\u001b[1;33m\u001b[0m\u001b[0m\n\u001b[0;32m     71\u001b[0m \u001b[1;33m\u001b[0m\u001b[0m\n",
      "\u001b[1;32mE:\\Python\\Anaconda\\envs\\py27\\lib\\site-packages\\nltk\\parse\\generate.py\u001b[0m in \u001b[0;36m_generate_all\u001b[1;34m(grammar, items, depth)\u001b[0m\n\u001b[0;32m     39\u001b[0m \u001b[1;32mdef\u001b[0m \u001b[0m_generate_all\u001b[0m\u001b[1;33m(\u001b[0m\u001b[0mgrammar\u001b[0m\u001b[1;33m,\u001b[0m \u001b[0mitems\u001b[0m\u001b[1;33m,\u001b[0m \u001b[0mdepth\u001b[0m\u001b[1;33m)\u001b[0m\u001b[1;33m:\u001b[0m\u001b[1;33m\u001b[0m\u001b[0m\n\u001b[0;32m     40\u001b[0m     \u001b[1;32mif\u001b[0m \u001b[0mitems\u001b[0m\u001b[1;33m:\u001b[0m\u001b[1;33m\u001b[0m\u001b[0m\n\u001b[1;32m---> 41\u001b[1;33m         \u001b[1;32mfor\u001b[0m \u001b[0mfrag1\u001b[0m \u001b[1;32min\u001b[0m \u001b[0m_generate_one\u001b[0m\u001b[1;33m(\u001b[0m\u001b[0mgrammar\u001b[0m\u001b[1;33m,\u001b[0m \u001b[0mitems\u001b[0m\u001b[1;33m[\u001b[0m\u001b[1;36m0\u001b[0m\u001b[1;33m]\u001b[0m\u001b[1;33m,\u001b[0m \u001b[0mdepth\u001b[0m\u001b[1;33m)\u001b[0m\u001b[1;33m:\u001b[0m\u001b[1;33m\u001b[0m\u001b[0m\n\u001b[0m\u001b[0;32m     42\u001b[0m             \u001b[1;32mfor\u001b[0m \u001b[0mfrag2\u001b[0m \u001b[1;32min\u001b[0m \u001b[0m_generate_all\u001b[0m\u001b[1;33m(\u001b[0m\u001b[0mgrammar\u001b[0m\u001b[1;33m,\u001b[0m \u001b[0mitems\u001b[0m\u001b[1;33m[\u001b[0m\u001b[1;36m1\u001b[0m\u001b[1;33m:\u001b[0m\u001b[1;33m]\u001b[0m\u001b[1;33m,\u001b[0m \u001b[0mdepth\u001b[0m\u001b[1;33m)\u001b[0m\u001b[1;33m:\u001b[0m\u001b[1;33m\u001b[0m\u001b[0m\n\u001b[0;32m     43\u001b[0m                 \u001b[1;32myield\u001b[0m \u001b[0mfrag1\u001b[0m \u001b[1;33m+\u001b[0m \u001b[0mfrag2\u001b[0m\u001b[1;33m\u001b[0m\u001b[0m\n",
      "\u001b[1;32mE:\\Python\\Anaconda\\envs\\py27\\lib\\site-packages\\nltk\\parse\\generate.py\u001b[0m in \u001b[0;36m_generate_one\u001b[1;34m(grammar, item, depth)\u001b[0m\n\u001b[0;32m     49\u001b[0m         \u001b[1;32mif\u001b[0m \u001b[0misinstance\u001b[0m\u001b[1;33m(\u001b[0m\u001b[0mitem\u001b[0m\u001b[1;33m,\u001b[0m \u001b[0mNonterminal\u001b[0m\u001b[1;33m)\u001b[0m\u001b[1;33m:\u001b[0m\u001b[1;33m\u001b[0m\u001b[0m\n\u001b[0;32m     50\u001b[0m             \u001b[1;32mfor\u001b[0m \u001b[0mprod\u001b[0m \u001b[1;32min\u001b[0m \u001b[0mgrammar\u001b[0m\u001b[1;33m.\u001b[0m\u001b[0mproductions\u001b[0m\u001b[1;33m(\u001b[0m\u001b[0mlhs\u001b[0m\u001b[1;33m=\u001b[0m\u001b[0mitem\u001b[0m\u001b[1;33m)\u001b[0m\u001b[1;33m:\u001b[0m\u001b[1;33m\u001b[0m\u001b[0m\n\u001b[1;32m---> 51\u001b[1;33m                 \u001b[1;32mfor\u001b[0m \u001b[0mfrag\u001b[0m \u001b[1;32min\u001b[0m \u001b[0m_generate_all\u001b[0m\u001b[1;33m(\u001b[0m\u001b[0mgrammar\u001b[0m\u001b[1;33m,\u001b[0m \u001b[0mprod\u001b[0m\u001b[1;33m.\u001b[0m\u001b[0mrhs\u001b[0m\u001b[1;33m(\u001b[0m\u001b[1;33m)\u001b[0m\u001b[1;33m,\u001b[0m \u001b[0mdepth\u001b[0m\u001b[1;33m-\u001b[0m\u001b[1;36m1\u001b[0m\u001b[1;33m)\u001b[0m\u001b[1;33m:\u001b[0m\u001b[1;33m\u001b[0m\u001b[0m\n\u001b[0m\u001b[0;32m     52\u001b[0m                     \u001b[1;32myield\u001b[0m \u001b[0mfrag\u001b[0m\u001b[1;33m\u001b[0m\u001b[0m\n\u001b[0;32m     53\u001b[0m         \u001b[1;32melse\u001b[0m\u001b[1;33m:\u001b[0m\u001b[1;33m\u001b[0m\u001b[0m\n",
      "\u001b[1;32mE:\\Python\\Anaconda\\envs\\py27\\lib\\site-packages\\nltk\\parse\\generate.py\u001b[0m in \u001b[0;36m_generate_all\u001b[1;34m(grammar, items, depth)\u001b[0m\n\u001b[0;32m     40\u001b[0m     \u001b[1;32mif\u001b[0m \u001b[0mitems\u001b[0m\u001b[1;33m:\u001b[0m\u001b[1;33m\u001b[0m\u001b[0m\n\u001b[0;32m     41\u001b[0m         \u001b[1;32mfor\u001b[0m \u001b[0mfrag1\u001b[0m \u001b[1;32min\u001b[0m \u001b[0m_generate_one\u001b[0m\u001b[1;33m(\u001b[0m\u001b[0mgrammar\u001b[0m\u001b[1;33m,\u001b[0m \u001b[0mitems\u001b[0m\u001b[1;33m[\u001b[0m\u001b[1;36m0\u001b[0m\u001b[1;33m]\u001b[0m\u001b[1;33m,\u001b[0m \u001b[0mdepth\u001b[0m\u001b[1;33m)\u001b[0m\u001b[1;33m:\u001b[0m\u001b[1;33m\u001b[0m\u001b[0m\n\u001b[1;32m---> 42\u001b[1;33m             \u001b[1;32mfor\u001b[0m \u001b[0mfrag2\u001b[0m \u001b[1;32min\u001b[0m \u001b[0m_generate_all\u001b[0m\u001b[1;33m(\u001b[0m\u001b[0mgrammar\u001b[0m\u001b[1;33m,\u001b[0m \u001b[0mitems\u001b[0m\u001b[1;33m[\u001b[0m\u001b[1;36m1\u001b[0m\u001b[1;33m:\u001b[0m\u001b[1;33m]\u001b[0m\u001b[1;33m,\u001b[0m \u001b[0mdepth\u001b[0m\u001b[1;33m)\u001b[0m\u001b[1;33m:\u001b[0m\u001b[1;33m\u001b[0m\u001b[0m\n\u001b[0m\u001b[0;32m     43\u001b[0m                 \u001b[1;32myield\u001b[0m \u001b[0mfrag1\u001b[0m \u001b[1;33m+\u001b[0m \u001b[0mfrag2\u001b[0m\u001b[1;33m\u001b[0m\u001b[0m\n\u001b[0;32m     44\u001b[0m     \u001b[1;32melse\u001b[0m\u001b[1;33m:\u001b[0m\u001b[1;33m\u001b[0m\u001b[0m\n",
      "\u001b[1;32mE:\\Python\\Anaconda\\envs\\py27\\lib\\site-packages\\nltk\\parse\\generate.py\u001b[0m in \u001b[0;36m_generate_all\u001b[1;34m(grammar, items, depth)\u001b[0m\n\u001b[0;32m     39\u001b[0m \u001b[1;32mdef\u001b[0m \u001b[0m_generate_all\u001b[0m\u001b[1;33m(\u001b[0m\u001b[0mgrammar\u001b[0m\u001b[1;33m,\u001b[0m \u001b[0mitems\u001b[0m\u001b[1;33m,\u001b[0m \u001b[0mdepth\u001b[0m\u001b[1;33m)\u001b[0m\u001b[1;33m:\u001b[0m\u001b[1;33m\u001b[0m\u001b[0m\n\u001b[0;32m     40\u001b[0m     \u001b[1;32mif\u001b[0m \u001b[0mitems\u001b[0m\u001b[1;33m:\u001b[0m\u001b[1;33m\u001b[0m\u001b[0m\n\u001b[1;32m---> 41\u001b[1;33m         \u001b[1;32mfor\u001b[0m \u001b[0mfrag1\u001b[0m \u001b[1;32min\u001b[0m \u001b[0m_generate_one\u001b[0m\u001b[1;33m(\u001b[0m\u001b[0mgrammar\u001b[0m\u001b[1;33m,\u001b[0m \u001b[0mitems\u001b[0m\u001b[1;33m[\u001b[0m\u001b[1;36m0\u001b[0m\u001b[1;33m]\u001b[0m\u001b[1;33m,\u001b[0m \u001b[0mdepth\u001b[0m\u001b[1;33m)\u001b[0m\u001b[1;33m:\u001b[0m\u001b[1;33m\u001b[0m\u001b[0m\n\u001b[0m\u001b[0;32m     42\u001b[0m             \u001b[1;32mfor\u001b[0m \u001b[0mfrag2\u001b[0m \u001b[1;32min\u001b[0m \u001b[0m_generate_all\u001b[0m\u001b[1;33m(\u001b[0m\u001b[0mgrammar\u001b[0m\u001b[1;33m,\u001b[0m \u001b[0mitems\u001b[0m\u001b[1;33m[\u001b[0m\u001b[1;36m1\u001b[0m\u001b[1;33m:\u001b[0m\u001b[1;33m]\u001b[0m\u001b[1;33m,\u001b[0m \u001b[0mdepth\u001b[0m\u001b[1;33m)\u001b[0m\u001b[1;33m:\u001b[0m\u001b[1;33m\u001b[0m\u001b[0m\n\u001b[0;32m     43\u001b[0m                 \u001b[1;32myield\u001b[0m \u001b[0mfrag1\u001b[0m \u001b[1;33m+\u001b[0m \u001b[0mfrag2\u001b[0m\u001b[1;33m\u001b[0m\u001b[0m\n",
      "\u001b[1;32mE:\\Python\\Anaconda\\envs\\py27\\lib\\site-packages\\nltk\\parse\\generate.py\u001b[0m in \u001b[0;36m_generate_one\u001b[1;34m(grammar, item, depth)\u001b[0m\n\u001b[0;32m     49\u001b[0m         \u001b[1;32mif\u001b[0m \u001b[0misinstance\u001b[0m\u001b[1;33m(\u001b[0m\u001b[0mitem\u001b[0m\u001b[1;33m,\u001b[0m \u001b[0mNonterminal\u001b[0m\u001b[1;33m)\u001b[0m\u001b[1;33m:\u001b[0m\u001b[1;33m\u001b[0m\u001b[0m\n\u001b[0;32m     50\u001b[0m             \u001b[1;32mfor\u001b[0m \u001b[0mprod\u001b[0m \u001b[1;32min\u001b[0m \u001b[0mgrammar\u001b[0m\u001b[1;33m.\u001b[0m\u001b[0mproductions\u001b[0m\u001b[1;33m(\u001b[0m\u001b[0mlhs\u001b[0m\u001b[1;33m=\u001b[0m\u001b[0mitem\u001b[0m\u001b[1;33m)\u001b[0m\u001b[1;33m:\u001b[0m\u001b[1;33m\u001b[0m\u001b[0m\n\u001b[1;32m---> 51\u001b[1;33m                 \u001b[1;32mfor\u001b[0m \u001b[0mfrag\u001b[0m \u001b[1;32min\u001b[0m \u001b[0m_generate_all\u001b[0m\u001b[1;33m(\u001b[0m\u001b[0mgrammar\u001b[0m\u001b[1;33m,\u001b[0m \u001b[0mprod\u001b[0m\u001b[1;33m.\u001b[0m\u001b[0mrhs\u001b[0m\u001b[1;33m(\u001b[0m\u001b[1;33m)\u001b[0m\u001b[1;33m,\u001b[0m \u001b[0mdepth\u001b[0m\u001b[1;33m-\u001b[0m\u001b[1;36m1\u001b[0m\u001b[1;33m)\u001b[0m\u001b[1;33m:\u001b[0m\u001b[1;33m\u001b[0m\u001b[0m\n\u001b[0m\u001b[0;32m     52\u001b[0m                     \u001b[1;32myield\u001b[0m \u001b[0mfrag\u001b[0m\u001b[1;33m\u001b[0m\u001b[0m\n\u001b[0;32m     53\u001b[0m         \u001b[1;32melse\u001b[0m\u001b[1;33m:\u001b[0m\u001b[1;33m\u001b[0m\u001b[0m\n",
      "\u001b[1;32mE:\\Python\\Anaconda\\envs\\py27\\lib\\site-packages\\nltk\\parse\\generate.py\u001b[0m in \u001b[0;36m_generate_all\u001b[1;34m(grammar, items, depth)\u001b[0m\n\u001b[0;32m     40\u001b[0m     \u001b[1;32mif\u001b[0m \u001b[0mitems\u001b[0m\u001b[1;33m:\u001b[0m\u001b[1;33m\u001b[0m\u001b[0m\n\u001b[0;32m     41\u001b[0m         \u001b[1;32mfor\u001b[0m \u001b[0mfrag1\u001b[0m \u001b[1;32min\u001b[0m \u001b[0m_generate_one\u001b[0m\u001b[1;33m(\u001b[0m\u001b[0mgrammar\u001b[0m\u001b[1;33m,\u001b[0m \u001b[0mitems\u001b[0m\u001b[1;33m[\u001b[0m\u001b[1;36m0\u001b[0m\u001b[1;33m]\u001b[0m\u001b[1;33m,\u001b[0m \u001b[0mdepth\u001b[0m\u001b[1;33m)\u001b[0m\u001b[1;33m:\u001b[0m\u001b[1;33m\u001b[0m\u001b[0m\n\u001b[1;32m---> 42\u001b[1;33m             \u001b[1;32mfor\u001b[0m \u001b[0mfrag2\u001b[0m \u001b[1;32min\u001b[0m \u001b[0m_generate_all\u001b[0m\u001b[1;33m(\u001b[0m\u001b[0mgrammar\u001b[0m\u001b[1;33m,\u001b[0m \u001b[0mitems\u001b[0m\u001b[1;33m[\u001b[0m\u001b[1;36m1\u001b[0m\u001b[1;33m:\u001b[0m\u001b[1;33m]\u001b[0m\u001b[1;33m,\u001b[0m \u001b[0mdepth\u001b[0m\u001b[1;33m)\u001b[0m\u001b[1;33m:\u001b[0m\u001b[1;33m\u001b[0m\u001b[0m\n\u001b[0m\u001b[0;32m     43\u001b[0m                 \u001b[1;32myield\u001b[0m \u001b[0mfrag1\u001b[0m \u001b[1;33m+\u001b[0m \u001b[0mfrag2\u001b[0m\u001b[1;33m\u001b[0m\u001b[0m\n\u001b[0;32m     44\u001b[0m     \u001b[1;32melse\u001b[0m\u001b[1;33m:\u001b[0m\u001b[1;33m\u001b[0m\u001b[0m\n",
      "\u001b[1;32mE:\\Python\\Anaconda\\envs\\py27\\lib\\site-packages\\nltk\\parse\\generate.py\u001b[0m in \u001b[0;36m_generate_all\u001b[1;34m(grammar, items, depth)\u001b[0m\n\u001b[0;32m     40\u001b[0m     \u001b[1;32mif\u001b[0m \u001b[0mitems\u001b[0m\u001b[1;33m:\u001b[0m\u001b[1;33m\u001b[0m\u001b[0m\n\u001b[0;32m     41\u001b[0m         \u001b[1;32mfor\u001b[0m \u001b[0mfrag1\u001b[0m \u001b[1;32min\u001b[0m \u001b[0m_generate_one\u001b[0m\u001b[1;33m(\u001b[0m\u001b[0mgrammar\u001b[0m\u001b[1;33m,\u001b[0m \u001b[0mitems\u001b[0m\u001b[1;33m[\u001b[0m\u001b[1;36m0\u001b[0m\u001b[1;33m]\u001b[0m\u001b[1;33m,\u001b[0m \u001b[0mdepth\u001b[0m\u001b[1;33m)\u001b[0m\u001b[1;33m:\u001b[0m\u001b[1;33m\u001b[0m\u001b[0m\n\u001b[1;32m---> 42\u001b[1;33m             \u001b[1;32mfor\u001b[0m \u001b[0mfrag2\u001b[0m \u001b[1;32min\u001b[0m \u001b[0m_generate_all\u001b[0m\u001b[1;33m(\u001b[0m\u001b[0mgrammar\u001b[0m\u001b[1;33m,\u001b[0m \u001b[0mitems\u001b[0m\u001b[1;33m[\u001b[0m\u001b[1;36m1\u001b[0m\u001b[1;33m:\u001b[0m\u001b[1;33m]\u001b[0m\u001b[1;33m,\u001b[0m \u001b[0mdepth\u001b[0m\u001b[1;33m)\u001b[0m\u001b[1;33m:\u001b[0m\u001b[1;33m\u001b[0m\u001b[0m\n\u001b[0m\u001b[0;32m     43\u001b[0m                 \u001b[1;32myield\u001b[0m \u001b[0mfrag1\u001b[0m \u001b[1;33m+\u001b[0m \u001b[0mfrag2\u001b[0m\u001b[1;33m\u001b[0m\u001b[0m\n\u001b[0;32m     44\u001b[0m     \u001b[1;32melse\u001b[0m\u001b[1;33m:\u001b[0m\u001b[1;33m\u001b[0m\u001b[0m\n",
      "\u001b[1;32mE:\\Python\\Anaconda\\envs\\py27\\lib\\site-packages\\nltk\\parse\\generate.py\u001b[0m in \u001b[0;36m_generate_all\u001b[1;34m(grammar, items, depth)\u001b[0m\n\u001b[0;32m     40\u001b[0m     \u001b[1;32mif\u001b[0m \u001b[0mitems\u001b[0m\u001b[1;33m:\u001b[0m\u001b[1;33m\u001b[0m\u001b[0m\n\u001b[0;32m     41\u001b[0m         \u001b[1;32mfor\u001b[0m \u001b[0mfrag1\u001b[0m \u001b[1;32min\u001b[0m \u001b[0m_generate_one\u001b[0m\u001b[1;33m(\u001b[0m\u001b[0mgrammar\u001b[0m\u001b[1;33m,\u001b[0m \u001b[0mitems\u001b[0m\u001b[1;33m[\u001b[0m\u001b[1;36m0\u001b[0m\u001b[1;33m]\u001b[0m\u001b[1;33m,\u001b[0m \u001b[0mdepth\u001b[0m\u001b[1;33m)\u001b[0m\u001b[1;33m:\u001b[0m\u001b[1;33m\u001b[0m\u001b[0m\n\u001b[1;32m---> 42\u001b[1;33m             \u001b[1;32mfor\u001b[0m \u001b[0mfrag2\u001b[0m \u001b[1;32min\u001b[0m \u001b[0m_generate_all\u001b[0m\u001b[1;33m(\u001b[0m\u001b[0mgrammar\u001b[0m\u001b[1;33m,\u001b[0m \u001b[0mitems\u001b[0m\u001b[1;33m[\u001b[0m\u001b[1;36m1\u001b[0m\u001b[1;33m:\u001b[0m\u001b[1;33m]\u001b[0m\u001b[1;33m,\u001b[0m \u001b[0mdepth\u001b[0m\u001b[1;33m)\u001b[0m\u001b[1;33m:\u001b[0m\u001b[1;33m\u001b[0m\u001b[0m\n\u001b[0m\u001b[0;32m     43\u001b[0m                 \u001b[1;32myield\u001b[0m \u001b[0mfrag1\u001b[0m \u001b[1;33m+\u001b[0m \u001b[0mfrag2\u001b[0m\u001b[1;33m\u001b[0m\u001b[0m\n\u001b[0;32m     44\u001b[0m     \u001b[1;32melse\u001b[0m\u001b[1;33m:\u001b[0m\u001b[1;33m\u001b[0m\u001b[0m\n",
      "\u001b[1;32mE:\\Python\\Anaconda\\envs\\py27\\lib\\site-packages\\nltk\\parse\\generate.py\u001b[0m in \u001b[0;36m_generate_all\u001b[1;34m(grammar, items, depth)\u001b[0m\n\u001b[0;32m     40\u001b[0m     \u001b[1;32mif\u001b[0m \u001b[0mitems\u001b[0m\u001b[1;33m:\u001b[0m\u001b[1;33m\u001b[0m\u001b[0m\n\u001b[0;32m     41\u001b[0m         \u001b[1;32mfor\u001b[0m \u001b[0mfrag1\u001b[0m \u001b[1;32min\u001b[0m \u001b[0m_generate_one\u001b[0m\u001b[1;33m(\u001b[0m\u001b[0mgrammar\u001b[0m\u001b[1;33m,\u001b[0m \u001b[0mitems\u001b[0m\u001b[1;33m[\u001b[0m\u001b[1;36m0\u001b[0m\u001b[1;33m]\u001b[0m\u001b[1;33m,\u001b[0m \u001b[0mdepth\u001b[0m\u001b[1;33m)\u001b[0m\u001b[1;33m:\u001b[0m\u001b[1;33m\u001b[0m\u001b[0m\n\u001b[1;32m---> 42\u001b[1;33m             \u001b[1;32mfor\u001b[0m \u001b[0mfrag2\u001b[0m \u001b[1;32min\u001b[0m \u001b[0m_generate_all\u001b[0m\u001b[1;33m(\u001b[0m\u001b[0mgrammar\u001b[0m\u001b[1;33m,\u001b[0m \u001b[0mitems\u001b[0m\u001b[1;33m[\u001b[0m\u001b[1;36m1\u001b[0m\u001b[1;33m:\u001b[0m\u001b[1;33m]\u001b[0m\u001b[1;33m,\u001b[0m \u001b[0mdepth\u001b[0m\u001b[1;33m)\u001b[0m\u001b[1;33m:\u001b[0m\u001b[1;33m\u001b[0m\u001b[0m\n\u001b[0m\u001b[0;32m     43\u001b[0m                 \u001b[1;32myield\u001b[0m \u001b[0mfrag1\u001b[0m \u001b[1;33m+\u001b[0m \u001b[0mfrag2\u001b[0m\u001b[1;33m\u001b[0m\u001b[0m\n\u001b[0;32m     44\u001b[0m     \u001b[1;32melse\u001b[0m\u001b[1;33m:\u001b[0m\u001b[1;33m\u001b[0m\u001b[0m\n",
      "\u001b[1;32mE:\\Python\\Anaconda\\envs\\py27\\lib\\site-packages\\nltk\\parse\\generate.py\u001b[0m in \u001b[0;36m_generate_all\u001b[1;34m(grammar, items, depth)\u001b[0m\n\u001b[0;32m     40\u001b[0m     \u001b[1;32mif\u001b[0m \u001b[0mitems\u001b[0m\u001b[1;33m:\u001b[0m\u001b[1;33m\u001b[0m\u001b[0m\n\u001b[0;32m     41\u001b[0m         \u001b[1;32mfor\u001b[0m \u001b[0mfrag1\u001b[0m \u001b[1;32min\u001b[0m \u001b[0m_generate_one\u001b[0m\u001b[1;33m(\u001b[0m\u001b[0mgrammar\u001b[0m\u001b[1;33m,\u001b[0m \u001b[0mitems\u001b[0m\u001b[1;33m[\u001b[0m\u001b[1;36m0\u001b[0m\u001b[1;33m]\u001b[0m\u001b[1;33m,\u001b[0m \u001b[0mdepth\u001b[0m\u001b[1;33m)\u001b[0m\u001b[1;33m:\u001b[0m\u001b[1;33m\u001b[0m\u001b[0m\n\u001b[1;32m---> 42\u001b[1;33m             \u001b[1;32mfor\u001b[0m \u001b[0mfrag2\u001b[0m \u001b[1;32min\u001b[0m \u001b[0m_generate_all\u001b[0m\u001b[1;33m(\u001b[0m\u001b[0mgrammar\u001b[0m\u001b[1;33m,\u001b[0m \u001b[0mitems\u001b[0m\u001b[1;33m[\u001b[0m\u001b[1;36m1\u001b[0m\u001b[1;33m:\u001b[0m\u001b[1;33m]\u001b[0m\u001b[1;33m,\u001b[0m \u001b[0mdepth\u001b[0m\u001b[1;33m)\u001b[0m\u001b[1;33m:\u001b[0m\u001b[1;33m\u001b[0m\u001b[0m\n\u001b[0m\u001b[0;32m     43\u001b[0m                 \u001b[1;32myield\u001b[0m \u001b[0mfrag1\u001b[0m \u001b[1;33m+\u001b[0m \u001b[0mfrag2\u001b[0m\u001b[1;33m\u001b[0m\u001b[0m\n\u001b[0;32m     44\u001b[0m     \u001b[1;32melse\u001b[0m\u001b[1;33m:\u001b[0m\u001b[1;33m\u001b[0m\u001b[0m\n",
      "\u001b[1;32mE:\\Python\\Anaconda\\envs\\py27\\lib\\site-packages\\nltk\\parse\\generate.py\u001b[0m in \u001b[0;36m_generate_all\u001b[1;34m(grammar, items, depth)\u001b[0m\n\u001b[0;32m     39\u001b[0m \u001b[1;32mdef\u001b[0m \u001b[0m_generate_all\u001b[0m\u001b[1;33m(\u001b[0m\u001b[0mgrammar\u001b[0m\u001b[1;33m,\u001b[0m \u001b[0mitems\u001b[0m\u001b[1;33m,\u001b[0m \u001b[0mdepth\u001b[0m\u001b[1;33m)\u001b[0m\u001b[1;33m:\u001b[0m\u001b[1;33m\u001b[0m\u001b[0m\n\u001b[0;32m     40\u001b[0m     \u001b[1;32mif\u001b[0m \u001b[0mitems\u001b[0m\u001b[1;33m:\u001b[0m\u001b[1;33m\u001b[0m\u001b[0m\n\u001b[1;32m---> 41\u001b[1;33m         \u001b[1;32mfor\u001b[0m \u001b[0mfrag1\u001b[0m \u001b[1;32min\u001b[0m \u001b[0m_generate_one\u001b[0m\u001b[1;33m(\u001b[0m\u001b[0mgrammar\u001b[0m\u001b[1;33m,\u001b[0m \u001b[0mitems\u001b[0m\u001b[1;33m[\u001b[0m\u001b[1;36m0\u001b[0m\u001b[1;33m]\u001b[0m\u001b[1;33m,\u001b[0m \u001b[0mdepth\u001b[0m\u001b[1;33m)\u001b[0m\u001b[1;33m:\u001b[0m\u001b[1;33m\u001b[0m\u001b[0m\n\u001b[0m\u001b[0;32m     42\u001b[0m             \u001b[1;32mfor\u001b[0m \u001b[0mfrag2\u001b[0m \u001b[1;32min\u001b[0m \u001b[0m_generate_all\u001b[0m\u001b[1;33m(\u001b[0m\u001b[0mgrammar\u001b[0m\u001b[1;33m,\u001b[0m \u001b[0mitems\u001b[0m\u001b[1;33m[\u001b[0m\u001b[1;36m1\u001b[0m\u001b[1;33m:\u001b[0m\u001b[1;33m]\u001b[0m\u001b[1;33m,\u001b[0m \u001b[0mdepth\u001b[0m\u001b[1;33m)\u001b[0m\u001b[1;33m:\u001b[0m\u001b[1;33m\u001b[0m\u001b[0m\n\u001b[0;32m     43\u001b[0m                 \u001b[1;32myield\u001b[0m \u001b[0mfrag1\u001b[0m \u001b[1;33m+\u001b[0m \u001b[0mfrag2\u001b[0m\u001b[1;33m\u001b[0m\u001b[0m\n",
      "\u001b[1;32mE:\\Python\\Anaconda\\envs\\py27\\lib\\site-packages\\nltk\\parse\\generate.py\u001b[0m in \u001b[0;36m_generate_one\u001b[1;34m(grammar, item, depth)\u001b[0m\n\u001b[0;32m     48\u001b[0m     \u001b[1;32mif\u001b[0m \u001b[0mdepth\u001b[0m \u001b[1;33m>\u001b[0m \u001b[1;36m0\u001b[0m\u001b[1;33m:\u001b[0m\u001b[1;33m\u001b[0m\u001b[0m\n\u001b[0;32m     49\u001b[0m         \u001b[1;32mif\u001b[0m \u001b[0misinstance\u001b[0m\u001b[1;33m(\u001b[0m\u001b[0mitem\u001b[0m\u001b[1;33m,\u001b[0m \u001b[0mNonterminal\u001b[0m\u001b[1;33m)\u001b[0m\u001b[1;33m:\u001b[0m\u001b[1;33m\u001b[0m\u001b[0m\n\u001b[1;32m---> 50\u001b[1;33m             \u001b[1;32mfor\u001b[0m \u001b[0mprod\u001b[0m \u001b[1;32min\u001b[0m \u001b[0mgrammar\u001b[0m\u001b[1;33m.\u001b[0m\u001b[0mproductions\u001b[0m\u001b[1;33m(\u001b[0m\u001b[0mlhs\u001b[0m\u001b[1;33m=\u001b[0m\u001b[0mitem\u001b[0m\u001b[1;33m)\u001b[0m\u001b[1;33m:\u001b[0m\u001b[1;33m\u001b[0m\u001b[0m\n\u001b[0m\u001b[0;32m     51\u001b[0m                 \u001b[1;32mfor\u001b[0m \u001b[0mfrag\u001b[0m \u001b[1;32min\u001b[0m \u001b[0m_generate_all\u001b[0m\u001b[1;33m(\u001b[0m\u001b[0mgrammar\u001b[0m\u001b[1;33m,\u001b[0m \u001b[0mprod\u001b[0m\u001b[1;33m.\u001b[0m\u001b[0mrhs\u001b[0m\u001b[1;33m(\u001b[0m\u001b[1;33m)\u001b[0m\u001b[1;33m,\u001b[0m \u001b[0mdepth\u001b[0m\u001b[1;33m-\u001b[0m\u001b[1;36m1\u001b[0m\u001b[1;33m)\u001b[0m\u001b[1;33m:\u001b[0m\u001b[1;33m\u001b[0m\u001b[0m\n\u001b[0;32m     52\u001b[0m                     \u001b[1;32myield\u001b[0m \u001b[0mfrag\u001b[0m\u001b[1;33m\u001b[0m\u001b[0m\n",
      "\u001b[1;32mE:\\Python\\Anaconda\\envs\\py27\\lib\\site-packages\\nltk\\grammar.py\u001b[0m in \u001b[0;36mproductions\u001b[1;34m(self, lhs, rhs, empty)\u001b[0m\n\u001b[0;32m    556\u001b[0m         \u001b[1;32melif\u001b[0m \u001b[0mlhs\u001b[0m \u001b[1;32mand\u001b[0m \u001b[1;32mnot\u001b[0m \u001b[0mrhs\u001b[0m\u001b[1;33m:\u001b[0m\u001b[1;33m\u001b[0m\u001b[0m\n\u001b[0;32m    557\u001b[0m             \u001b[1;32mif\u001b[0m \u001b[1;32mnot\u001b[0m \u001b[0mempty\u001b[0m\u001b[1;33m:\u001b[0m\u001b[1;33m\u001b[0m\u001b[0m\n\u001b[1;32m--> 558\u001b[1;33m                 \u001b[1;32mreturn\u001b[0m \u001b[0mself\u001b[0m\u001b[1;33m.\u001b[0m\u001b[0m_lhs_index\u001b[0m\u001b[1;33m.\u001b[0m\u001b[0mget\u001b[0m\u001b[1;33m(\u001b[0m\u001b[0mlhs\u001b[0m\u001b[1;33m,\u001b[0m \u001b[1;33m[\u001b[0m\u001b[1;33m]\u001b[0m\u001b[1;33m)\u001b[0m\u001b[1;33m\u001b[0m\u001b[0m\n\u001b[0m\u001b[0;32m    559\u001b[0m             \u001b[1;32melif\u001b[0m \u001b[0mlhs\u001b[0m \u001b[1;32min\u001b[0m \u001b[0mself\u001b[0m\u001b[1;33m.\u001b[0m\u001b[0m_empty_index\u001b[0m\u001b[1;33m:\u001b[0m\u001b[1;33m\u001b[0m\u001b[0m\n\u001b[0;32m    560\u001b[0m                 \u001b[1;32mreturn\u001b[0m \u001b[1;33m[\u001b[0m\u001b[0mself\u001b[0m\u001b[1;33m.\u001b[0m\u001b[0m_empty_index\u001b[0m\u001b[1;33m[\u001b[0m\u001b[0mlhs\u001b[0m\u001b[1;33m]\u001b[0m\u001b[1;33m]\u001b[0m\u001b[1;33m\u001b[0m\u001b[0m\n",
      "\u001b[1;32mE:\\Python\\Anaconda\\envs\\py27\\lib\\site-packages\\nltk\\grammar.py\u001b[0m in \u001b[0;36m__eq__\u001b[1;34m(self, other)\u001b[0m\n\u001b[0;32m    133\u001b[0m         \u001b[1;33m:\u001b[0m\u001b[0mrtype\u001b[0m\u001b[1;33m:\u001b[0m \u001b[0mbool\u001b[0m\u001b[1;33m\u001b[0m\u001b[0m\n\u001b[0;32m    134\u001b[0m         \"\"\"\n\u001b[1;32m--> 135\u001b[1;33m         \u001b[1;32mreturn\u001b[0m \u001b[0mtype\u001b[0m\u001b[1;33m(\u001b[0m\u001b[0mself\u001b[0m\u001b[1;33m)\u001b[0m \u001b[1;33m==\u001b[0m \u001b[0mtype\u001b[0m\u001b[1;33m(\u001b[0m\u001b[0mother\u001b[0m\u001b[1;33m)\u001b[0m \u001b[1;32mand\u001b[0m \u001b[0mself\u001b[0m\u001b[1;33m.\u001b[0m\u001b[0m_symbol\u001b[0m \u001b[1;33m==\u001b[0m \u001b[0mother\u001b[0m\u001b[1;33m.\u001b[0m\u001b[0m_symbol\u001b[0m\u001b[1;33m\u001b[0m\u001b[0m\n\u001b[0m\u001b[0;32m    136\u001b[0m \u001b[1;33m\u001b[0m\u001b[0m\n\u001b[0;32m    137\u001b[0m     \u001b[1;32mdef\u001b[0m \u001b[0m__ne__\u001b[0m\u001b[1;33m(\u001b[0m\u001b[0mself\u001b[0m\u001b[1;33m,\u001b[0m \u001b[0mother\u001b[0m\u001b[1;33m)\u001b[0m\u001b[1;33m:\u001b[0m\u001b[1;33m\u001b[0m\u001b[0m\n",
      "\u001b[1;31mKeyboardInterrupt\u001b[0m: "
     ]
    }
   ],
   "source": [
    "from nltk import PCFG\n",
    "from nltk.parse.generate import generate, demo_grammar\n",
    "from nltk import CFG\n",
    "from operator import itemgetter\n",
    "from random import shuffle\n",
    "\n",
    "nonterms = {\".\",\",\",r\"PRP$\",\":\",\"$\",\"\\'\\'\", \"(\", \")\", \"CC\", \"CD\", \"DT\", \"EX\", \"FW\", \"IN\", r\"WP$\"}\n",
    "nonpos = {\"i\", \"\\\"\", \"\\'\"}\n",
    "termvalues = {}\n",
    "#test = {\"NN\",\"JJ\",\"JJR\",\"MD\",\"RB\",\"VB\",\"RBS\",\"RBR\",\"UH\", \"VBP\", \"VBZ\", \"WDT\", \"CC\", \"NNS\", \"PRP\", \"VBN\", \"EX\"}\n",
    "\n",
    "limit = 30\n",
    "postags = postag\n",
    "shuffle(postags)\n",
    "postags.sort(key=itemgetter(1))\n",
    "my_grammar = \"\"\"\n",
    "  S -> KI NK\n",
    "  S -> COLCD N\n",
    "  S -> TR NT\n",
    "  S -> TK\n",
    "  COLCD -> COL CD\n",
    "  TK -> RT TO AND TAL TO NNP\n",
    "  TK -> TR TO AND TAL TO NNP\n",
    "  NK -> CD NN AT NNP\n",
    "  NK -> NNP THE NNP\n",
    "  NT -> TO NNP\n",
    "  NT -> TO NNP AND KI CD NN\n",
    "  NT -> TO NNP AND COL CD NN\n",
    "  NT -> TO NNP AND KI NNP THE NNP\n",
    "  N -> JJ NN FR NNP\n",
    "  N -> JJ NN AT NNP\n",
    "  N -> JJ NN\n",
    "  N -> NN\n",
    "  COL -> 'Collect' | 'Gather' | 'Find'\n",
    "  FR -> 'from'\n",
    "  KI -> 'Kill' | 'Slay'\n",
    "  TR -> 'Travel' | 'Journey'\n",
    "  AT -> 'At' | 'Located In'\n",
    "  THE -> 'The'\n",
    "  OF -> 'Of'\n",
    "  AND -> 'And'\n",
    "  RT -> 'Return'\n",
    "  TAL -> 'Talk'\n",
    "\"\"\"\n",
    "\n",
    "my_grammar += \"  \" + \"\\n  \".join([(r\"CD -> '\" + str(num) + r\"'\") for num in [1,5,10]])\n",
    "for (a,b) in postags:\n",
    "    if b not in nonterms and a not in nonpos and len(a)>1:\n",
    "        if termvalues.has_key(b) == False:\n",
    "            termvalues[b] = 1\n",
    "            my_grammar += \"\\n  \" + \"\\n  \".join([(b + r\" -> '\" + a + r\"'\")])\n",
    "        elif termvalues.get(b) < limit:\n",
    "            termvalues[b] += 1\n",
    "            my_grammar += \"\\n  \" + \"\\n  \".join([(b + r\" -> '\" + a + r\"'\")]) \n",
    "        \n",
    "#for (a,b) in postags:\n",
    "#    if b not in nonterms and a not in nonpos:\n",
    "#        if a == \"you'll\" and b not in test:\n",
    "#            print(b +\": \" + a + \" - \" + b[0])\n",
    "\n",
    "grammar = CFG.fromstring(my_grammar)\n",
    "#print(grammar.productions())\n",
    "\n",
    "#file = open('generation.txt', 'w')\n",
    "#for sentence in generate(grammar):\n",
    "    #file.write(' '.join(sentence))\n",
    "#file.close()\n",
    "fulllist = []\n",
    "for sentence in generate(grammar):\n",
    "    fulllist.append(sentence)\n",
    "\n",
    "ranlist = [None]*100\n",
    "for i in range(0,100):\n",
    "    ranlist[i] = random.choice(fulllist)\n",
    "\n",
    "for sentence in ranlist:\n",
    "    print(' '.join(sentence))\n",
    "\n",
    "#print(' '.join(random.choice(ranlist)))\n",
    "\n",
    "#print(grammar)\n",
    "#grammar += \"\\n\\tN -> 'cat'\"\n",
    "#print(grammar)\n",
    "\n",
    "#print(dir(CFG))\n",
    "#print(\"\\n\")\n",
    "#print(grammar.productions)\n"
   ]
  },
  {
   "cell_type": "code",
   "execution_count": null,
   "metadata": {
    "collapsed": true
   },
   "outputs": [],
   "source": []
  }
 ],
 "metadata": {
  "kernelspec": {
   "display_name": "Python 2",
   "language": "python",
   "name": "python2"
  },
  "language_info": {
   "codemirror_mode": {
    "name": "ipython",
    "version": 2
   },
   "file_extension": ".py",
   "mimetype": "text/x-python",
   "name": "python",
   "nbconvert_exporter": "python",
   "pygments_lexer": "ipython2",
   "version": "2.7.11"
  }
 },
 "nbformat": 4,
 "nbformat_minor": 0
}
