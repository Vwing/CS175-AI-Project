{
 "cells": [
  {
   "cell_type": "code",
   "execution_count": 512,
   "metadata": {
    "collapsed": true
   },
   "outputs": [],
   "source": [
    "import csv\n",
    "import re\n",
    "import pandas as pd\n",
    "import random\n",
    "import copy\n",
    "import nltk\n",
    "\n",
    "NAME = \"fleep\"\n",
    "GENDER = \"M\"\n",
    "CLASS = \"hunter\"\n",
    "RACE = \"dwarf\"\n",
    "\n",
    "quests = pd.read_csv(\"quests.csv\")\n",
    "#print(list(quests.columns.values))\n",
    "details = quests.Details\n",
    "rawStr = \"\"\n",
    "for d in details:\n",
    "    rawStr += str(d)"
   ]
  },
  {
   "cell_type": "code",
   "execution_count": 519,
   "metadata": {
    "collapsed": false
   },
   "outputs": [],
   "source": [
    "prepositions = [\"were\",\"of\",\"the\",\"from\",\"is\",\"on\",\"when\",\"at\",\"for\",\n",
    "               \"are\", \"to\", \"we\", \"a\", \"who\", \"i\", \"he\", \"she\", \"in\",\n",
    "               \"her\",\"his\",\"their\",\"they\", \"but\", \"however\", \"therefore\",\n",
    "               \"that\", \"has\", \"with\"] #words we don't want to end a sentence with\n",
    "def get_ran_word(cfdist,word,myinterest):\n",
    "    if myinterest in cfdist[word].keys() and random.random() > 0.1 and myinterest is not word:\n",
    "        return myinterest\n",
    "    if \".\" in cfdist[word].keys() and random.random() > 0.5 and word not in prepositions:\n",
    "        return \".\"\n",
    "    d = copy.copy(cfdist[word])\n",
    "    lend = len(d)\n",
    "    if lend == 0:\n",
    "        return random.choice([\"the\",\"of\"])\n",
    "    if lend > 10:\n",
    "        sampleNum = lend // 5; #sample from the top 20% words\n",
    "    else:\n",
    "        sampleNum = lend\n",
    "    words = []\n",
    "    for i in range(sampleNum):\n",
    "        if(lend == 1):\n",
    "            words.append(d.keys()[0])\n",
    "            break;\n",
    "        words.append(d.max());\n",
    "        del(d[words[i]]);\n",
    "    return random.choice(words)\n",
    "\n",
    "def generate_ran_sentence(cfdist, initwords, interest=\"\", minwords=5, maxwords = 15):#, num=15):\n",
    "    i = 1\n",
    "    interestCount = 0\n",
    "    foundInterest = False\n",
    "    words = [initwords.capitalize()]\n",
    "    word = get_ran_word(cfdist,initwords.split(\" \")[-1],interest)\n",
    "    while word is not \".\" and i < maxwords:\n",
    "        words.append(word)\n",
    "        if foundInterest: #it has become uninteresting...\n",
    "            word = get_ran_word(cfdist,word,\"\")\n",
    "        else:\n",
    "            word = get_ran_word(cfdist,word,interest)\n",
    "        if word is interest:\n",
    "            foundInterest = True\n",
    "    if not foundInterest or len(words) < minwords: #keep going til you get an interest\n",
    "        return generate_ran_sentence(cfdist,initwords,interest=interest,minwords=minwords,maxwords=maxwords)\n",
    "    return words\n",
    "        \n",
    "def format_simple(document):\n",
    "    doc = document.lower()                                           #convert to lower case\n",
    "    doc = re.sub(r'[\\?\\{\\}\\[\\]\\|\\(\\)!,:\\-;\\$\\\"<>]',' ',doc)           #remove punctuations\n",
    "    doc = re.sub(r'[\\']','',doc)                                     # remove appostrophes\n",
    "    doc = re.sub(r'\\.', ' . ', doc)                                  #add spaces between periods\n",
    "    doc = re.sub(r'[\\s]+',' ', doc)                                  #remove whitespace clumps\n",
    "    doc =  doc.strip()                                               #remove trailing whitespace\n",
    "    return doc\n",
    "\n",
    "def replace_variables(document):\n",
    "    doc = document.lower()\n",
    "    if GENDER == \"M\":\n",
    "        doc = re.sub(r'\\$g(.*):(.*);',r'\\g<1>',doc)\n",
    "    else:\n",
    "        doc = re.sub(r'\\$g(.*):(.*);',r'\\g<2>',doc)\n",
    "    doc = re.sub(r'\\$c',CLASS,doc)\n",
    "    doc = re.sub(r'\\$n',NAME,doc)\n",
    "    doc = re.sub(r'\\$r',RACE,doc)\n",
    "    return doc\n",
    "    \n",
    "def format_simple_keep_punctuation(document):\n",
    "    doc = document.lower()                                           #convert to lower case\n",
    "    doc = re.sub(r'[\\[\\]\\|<>\\-]','',doc)                                  #remove unneeded punctuations\n",
    "    doc = re.sub(r'([\\.\\?\\{\\}\\[\\]\\(\\)!,:\\-;\\$\\\"\\'])',r' \\g<1> ',doc)           #put spaces between tagged punctuations\n",
    "    doc = re.sub(r'[\\s]+',' ', doc)                                  #remove whitespace clumps\n",
    "    doc =  doc.strip()                                               #remove trailing whitespace\n",
    "    return doc"
   ]
  },
  {
   "cell_type": "code",
   "execution_count": 514,
   "metadata": {
    "collapsed": false
   },
   "outputs": [],
   "source": [
    "# rawStr = replace_variables(rawStr)\n",
    "# rawStr = format_simple_keep_punctuation(rawStr)\n",
    "# tokens = rawStr.split(' ')\n",
    "# text = nltk.Text(tokens)\n",
    "\n",
    "alldeets = \"\".join(str(d) for d in details)\n",
    "alldeets = replace_variables(alldeets)\n",
    "#construct text_nopunct\n",
    "rawStr = format_simple(alldeets)\n",
    "tokens_nopunct = rawStr.split(' ')\n",
    "text_nopunct = nltk.Text(tokens_nopunct)\n",
    "#construct text (with punctuation)\n",
    "rawStr = format_simple_keep_punctuation(alldeets)\n",
    "tokens = rawStr.split(' ')\n",
    "text = nltk.Text(tokens_nopunct)\n",
    "\n",
    "# get cfds from bigrams\n",
    "bigrams_nopunct = nltk.bigrams(text_nopunct)\n",
    "cfd_nopunct = nltk.ConditionalFreqDist(bigrams_nopunct)\n",
    "\n",
    "bigrams = nltk.bigrams(text)\n",
    "cfd = nltk.ConditionalFreqDist(bigrams)"
   ]
  },
  {
   "cell_type": "code",
   "execution_count": 515,
   "metadata": {
    "collapsed": false
   },
   "outputs": [],
   "source": [
    "postag = nltk.pos_tag(text)"
   ]
  },
  {
   "cell_type": "code",
   "execution_count": 305,
   "metadata": {
    "collapsed": false
   },
   "outputs": [
    {
     "name": "stdout",
     "output_type": "stream",
     "text": [
      "[('NN', 100889), ('IN', 63764), ('DT', 57068), ('VB', 43443), ('.', 41763), ('JJ', 39215), ('PRP', 37256), ('NNS', 31305), ('RB', 26023), ('VBP', 21146), ('TO', 21129), ('CC', 15984), ('PRP$', 15421), ('VBZ', 13518), ('VBN', 12683), ('MD', 11906), ('VBD', 9451), ('VBG', 8848), ('RP', 3152), ('CD', 2746), ('WRB', 2373), ('WP', 2208), ('WDT', 1943), ('JJR', 1556), ('JJS', 1439), (':', 1180), ('EX', 1123), ('RBR', 645), ('PDT', 484), ('RBS', 322), ('FW', 109), ('UH', 95), ('NNP', 57), ('SYM', 55), ('WP$', 16), ('$', 3), (\"''\", 2), ('NNPS', 2)]\n"
     ]
    }
   ],
   "source": [
    "tag_fd = nltk.FreqDist(tag for (word, tag) in postag)\n",
    "print(tag_fd.most_common())\n",
    "word_fd = nltk.FreqDist(word for (word, tag) in postag)\n",
    "#print(word_fd.most_common())"
   ]
  },
  {
   "cell_type": "code",
   "execution_count": 549,
   "metadata": {
    "collapsed": false
   },
   "outputs": [
    {
     "name": "stdout",
     "output_type": "stream",
     "text": [
      "<FreqDist with 5646 samples and 33449 outcomes>\n",
      "0.0\n",
      "[('other', 201), ('area', 186), ('time', 180), ('road', 174), ('ruins', 174), ('first', 163), ('only', 161), ('burning', 155), ('last', 153), ('most', 152), ('dark', 139), ('barrens', 124), ('city', 123), ('blood', 123), ('world', 115), ('spirits', 115), ('key', 113), ('land', 112), ('path', 110), ('valley', 107), ('power', 106), ('way', 103), ('battle', 103), ('ground', 103), ('light', 103), ('argent', 100), ('one', 99), ('cenarion', 99), ('great', 98), ('dead', 97), ('same', 97), ('best', 96), ('crystal', 95), ('scarlet', 95), ('rest', 94), ('water', 93), ('temple', 91), ('forest', 90), ('name', 86), ('heart', 83), ('legion', 82), ('coast', 80), ('fel', 79), ('book', 77), ('creatures', 76), ('next', 74), ('undercity', 74), ('old', 72), ('tournament', 71), ('village', 70), ('mine', 69), ('black', 69), ('end', 68), ('field', 67), ('plague', 67), ('enemy', 66), ('town', 66), ('iron', 64), ('earth', 64), ('vrykul', 64), ('top', 63), ('spirit', 63), ('tower', 63), ('arakkoa', 62), ('naga', 62), ('war', 61), ('camp', 60), ('ogres', 58), ('lake', 56), ('shadow', 55), ('right', 55), ('night', 55), ('bottom', 54), ('undead', 54), ('altar', 54), ('exodar', 53), ('high', 52), ('very', 52), ('cave', 52), ('head', 52), ('two', 51), ('beasts', 51), ('middle', 50), ('task', 50), ('fallen', 50), ('ones', 50), ('forsaken', 49), ('elements', 48), ('past', 48), ('sunwell', 48), ('second', 47), ('crossroads', 47), ('stone', 47), ('crystals', 47), ('center', 47), ('information', 47), ('beast', 47), ('leader', 46), ('ancient', 45), ('cult', 44)]\n"
     ]
    }
   ],
   "source": [
    "w = \"the\"\n",
    "\n",
    "print(cfd[w])\n",
    "freqs = cfd[w]\n",
    "print(str(float((201/33449))))\n",
    "print(freqs.most_common()[:100])"
   ]
  },
  {
   "cell_type": "code",
   "execution_count": 530,
   "metadata": {
    "collapsed": false
   },
   "outputs": [
    {
     "name": "stdout",
     "output_type": "stream",
     "text": [
      "The humans have spoken in stormwind. The orcs and realize that stormwind. The world is entitled to stormwind keep. A new beginning to sponsor you into stormwind guard. Return to the stormwind is hard to stormwind.\n",
      "\n",
      "The humans go and valor and worse the harpy named iverron as these blood. The orcs emerging from southern duskwood as he carries the harpy wenches to report from which. The world is causing the harpy named in dire. A new beginning ive a harpy wenches will all levels at scourgeholme now its energy. Return to the harpy named sidragos which the harpy nesting.\n",
      "\n",
      "The humans have water supply our hunters of twenty. The orcs of water elementals at him return. The world is water well it with water. A new beginning and water on da south through them. Return to the water on bloodmyst when the water.\n",
      "\n"
     ]
    }
   ],
   "source": [
    "#uses bigram frequencies to generate random sentences of a common theme\n",
    "def get_paragraph(startwords,interest):\n",
    "    numsentences = len(startwords)\n",
    "    interests = [interest]*numsentences\n",
    "    sentences = []\n",
    "    randsents = []\n",
    "    for j,k in zip(startwords,interests):\n",
    "        randsents.append(generate_ran_sentence(cfd_nopunct, j,interest=k,maxwords=20))\n",
    "    for sents in randsents:\n",
    "        sentences.append(\" \".join(sents))\n",
    "    return (\". \".join(sentences) + \".\")\n",
    "        \n",
    "startwords = [\"the humans\",\"the orcs\", \"the world is\",\"a new beginning\", \"return to the\"]\n",
    "interests = [\"stormwind\",\"harpy\",\"water\"]\n",
    "for interest in interests:\n",
    "    print(get_paragraph(startwords,interest))\n",
    "    print(\"\")"
   ]
  },
  {
   "cell_type": "code",
   "execution_count": 550,
   "metadata": {
    "collapsed": false
   },
   "outputs": [
    {
     "name": "stdout",
     "output_type": "stream",
     "text": [
      "Travel to moonwell And Kill zulmarosh The zulaman\n",
      "Journey to khan And Kill 5 compound\n",
      "Travel to jabber And Slay xoroth The zin\n",
      "Travel to zin And Slay youve The zin\n",
      "Gather 5 diet arakkoa Located In zulmarosh\n",
      "Find 1 large duty Located In yer\n",
      "Journey to kreldig And Slay xoroth The jibber\n",
      "Find 10 large dem At youve\n",
      "Journey to zulmarosh And Slay 1 energy\n",
      "Travel to korkron And Slay youve The khan\n"
     ]
    }
   ],
   "source": [
    "from nltk import PCFG\n",
    "from nltk.parse.generate import generate, demo_grammar\n",
    "from nltk import CFG\n",
    "from operator import itemgetter\n",
    "from random import shuffle\n",
    "\n",
    "nonterms = {\".\",\",\",r\"PRP$\",\":\",\"$\",\"\\'\\'\", \"(\", \")\", \"CC\", \"CD\", \"DT\", \"EX\", \"FW\", \"IN\", r\"WP$\"}\n",
    "nonpos = {\"i\", \"\\\"\", \"\\'\"}\n",
    "termvalues = {}\n",
    "#test = {\"NN\",\"JJ\",\"JJR\",\"MD\",\"RB\",\"VB\",\"RBS\",\"RBR\",\"UH\", \"VBP\", \"VBZ\", \"WDT\", \"CC\", \"NNS\", \"PRP\", \"VBN\", \"EX\"}\n",
    "\n",
    "limit = 30\n",
    "postags = postag\n",
    "shuffle(postags)\n",
    "postags.sort(key=itemgetter(1))\n",
    "my_grammar = \"\"\"\n",
    "  S -> KI NK\n",
    "  S -> COLCD N\n",
    "  S -> TR NT\n",
    "  S -> TK\n",
    "  COLCD -> COL CD\n",
    "  TK -> RT TO AND TAL TO NNP\n",
    "  TK -> TR TO AND TAL TO NNP\n",
    "  NK -> CD NN AT NNP\n",
    "  NK -> NNP THE NNP\n",
    "  NT -> TO NNP\n",
    "  NT -> TO NNP AND KI CD NN\n",
    "  NT -> TO NNP AND COL CD NN\n",
    "  NT -> TO NNP AND KI NNP THE NNP\n",
    "  N -> JJ NN FR NNP\n",
    "  N -> JJ NN AT NNP\n",
    "  N -> JJ NN\n",
    "  N -> NN\n",
    "  COL -> 'Collect' | 'Gather' | 'Find'\n",
    "  FR -> 'from'\n",
    "  KI -> 'Kill' | 'Slay'\n",
    "  TR -> 'Travel' | 'Journey'\n",
    "  AT -> 'At' | 'Located In'\n",
    "  THE -> 'The'\n",
    "  OF -> 'Of'\n",
    "  AND -> 'And'\n",
    "  RT -> 'Return'\n",
    "  TAL -> 'Talk'\n",
    "\"\"\"\n",
    "\n",
    "my_grammar += \"  \" + \"\\n  \".join([(r\"CD -> '\" + str(num) + r\"'\") for num in [1,5,10]])\n",
    "for (a,b) in postags:\n",
    "    if b not in nonterms and a not in nonpos and len(a)>1:\n",
    "        if termvalues.has_key(b) == False:\n",
    "            termvalues[b] = 1\n",
    "            my_grammar += \"\\n  \" + \"\\n  \".join([(b + r\" -> '\" + a + r\"'\")])\n",
    "        elif termvalues.get(b) < limit:\n",
    "            termvalues[b] += 1\n",
    "            my_grammar += \"\\n  \" + \"\\n  \".join([(b + r\" -> '\" + a + r\"'\")]) \n",
    "\n",
    "grammar = CFG.fromstring(my_grammar)\n",
    "fulllist = []\n",
    "for sentence in generate(grammar):\n",
    "    fulllist.append(sentence)\n",
    "\n",
    "ranlist = [None]*10\n",
    "for i in range(0,10):\n",
    "    ranlist[i] = random.choice(fulllist)\n",
    "\n",
    "for sentence in ranlist:\n",
    "    print(' '.join(sentence))\n"
   ]
  },
  {
   "cell_type": "code",
   "execution_count": null,
   "metadata": {
    "collapsed": true
   },
   "outputs": [],
   "source": []
  }
 ],
 "metadata": {
  "kernelspec": {
   "display_name": "Python 2",
   "language": "python",
   "name": "python2"
  },
  "language_info": {
   "codemirror_mode": {
    "name": "ipython",
    "version": 2
   },
   "file_extension": ".py",
   "mimetype": "text/x-python",
   "name": "python",
   "nbconvert_exporter": "python",
   "pygments_lexer": "ipython2",
   "version": "2.7.11"
  }
 },
 "nbformat": 4,
 "nbformat_minor": 0
}
