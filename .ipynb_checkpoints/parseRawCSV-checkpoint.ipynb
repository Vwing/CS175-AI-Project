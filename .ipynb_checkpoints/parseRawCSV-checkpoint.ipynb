{
 "cells": [
  {
   "cell_type": "code",
   "execution_count": 1,
   "metadata": {
    "collapsed": true
   },
   "outputs": [],
   "source": [
    "import csv\n",
    "import re\n",
    "import pandas as pd\n",
    "import random\n",
    "import copy\n",
    "import nltk\n",
    "\n",
    "NAME = \"fleep\"\n",
    "GENDER = \"M\"\n",
    "CLASS = \"hunter\"\n",
    "RACE = \"dwarf\"\n",
    "\n",
    "quests = pd.read_csv(\"quests.csv\")\n",
    "#print(list(quests.columns.values))\n",
    "details = quests.Details\n",
    "rawStr = \"\"\n",
    "for d in details:\n",
    "    rawStr += str(d)"
   ]
  },
  {
   "cell_type": "code",
   "execution_count": 2,
   "metadata": {
    "collapsed": true
   },
   "outputs": [],
   "source": [
    "def get_ran_word(cfdist,word,sampleNum):\n",
    "    d = copy.copy(cfdist[word])\n",
    "    words = [None] * sampleNum\n",
    "    for i in range(sampleNum):\n",
    "        words[i] = d.max();\n",
    "        del(d[words[i]]);\n",
    "    return random.choice(words)\n",
    "\n",
    "def generate_ran_sentence(cfdist, word, num=15):\n",
    "    for i in range(num):\n",
    "        print(word + \" \")\n",
    "        #print word + \" \"\n",
    "        word = get_ran_word(cfdist,word,3)\n",
    "        \n",
    "def format_simple(document):\n",
    "    doc = document.lower()                                           #convert to lower case\n",
    "    doc = re.sub(r'[\\.\\?\\{\\}\\[\\]\\\\\\|\\(\\)!,:\\'-;\\$\\\"]','',doc)         #remove punctuations\n",
    "    doc = re.sub(r'[\\s]+',' ', doc)                                  #remove whitespace clumps\n",
    "    doc =  doc.strip()                                               #remove trailing whitespace\n",
    "    return doc\n",
    "\n",
    "def replace_variables(document):\n",
    "    doc = document.lower()\n",
    "    if GENDER == \"M\":\n",
    "        doc = re.sub(r'\\$g(.*):(.*);',r'\\g<1>',doc)\n",
    "    else:\n",
    "        doc = re.sub(r'\\$g(.*):(.*);',r'\\g<2>',doc)\n",
    "    doc = re.sub(r'\\$c',CLASS,doc)\n",
    "    doc = re.sub(r'\\$n',NAME,doc)\n",
    "    doc = re.sub(r'\\$r',RACE,doc)\n",
    "    return doc\n",
    "    \n",
    "def format_simple_keep_punctuation(document):\n",
    "    doc = document.lower()                                           #convert to lower case\n",
    "    doc = re.sub(r'[\\\\\\|]','',doc)                                  #remove unneeded punctuations\n",
    "    doc = re.sub(r'([\\.\\?\\{\\}\\[\\]\\(\\)!,:-;\\$\\\"])',r' \\g<1> ',doc)           #put spaces between tagged punctuations\n",
    "    doc = re.sub(r'[\\s]+',' ', doc)                                  #remove whitespace clumps\n",
    "    doc =  doc.strip()                                               #remove trailing whitespace\n",
    "    return doc"
   ]
  },
  {
   "cell_type": "code",
   "execution_count": 3,
   "metadata": {
    "collapsed": true
   },
   "outputs": [],
   "source": [
    "rawStr = replace_variables(rawStr)\n",
    "rawStr = format_simple_keep_punctuation(rawStr)\n",
    "#tokens = nltk.word_tokenize(rawStr)\n",
    "tokens = rawStr.split(' ')\n",
    "text = nltk.Text(tokens)"
   ]
  },
  {
   "cell_type": "code",
   "execution_count": 93,
   "metadata": {
    "collapsed": true
   },
   "outputs": [],
   "source": [
    "postag = nltk.pos_tag(text)\n",
    "#tag_fd = nltk.FreqDist(tag for (word, tag) in postag)"
   ]
  },
  {
   "cell_type": "code",
   "execution_count": 5,
   "metadata": {
    "collapsed": false
   },
   "outputs": [
    {
     "name": "stdout",
     "output_type": "stream",
     "text": [
      "[('NN', 112084), ('IN', 66589), ('DT', 62541), ('.', 50342), ('VB', 45805), ('JJ', 40659), ('PRP', 38868), ('NNS', 29896), ('RB', 27682), (',', 25599), ('TO', 21994), ('VBP', 19949), ('CC', 17072), ('PRP$', 15205), ('VBZ', 13542), ('VBN', 13464), ('MD', 12472), ('VBD', 9276), ('VBG', 9005), ('RP', 3231), ('CD', 2832), (':', 2783), ('WRB', 2420), ('WP', 2322), ('WDT', 2017), ('JJR', 1601), ('JJS', 1432), ('EX', 1021), ('RBR', 627), ('PDT', 469), ('RBS', 349), ('UH', 306), ('NNP', 234), ('$', 175), ('FW', 139), (\"''\", 47), ('SYM', 43), ('POS', 39), ('WP$', 24), (')', 22), ('(', 22), ('NNPS', 1), ('LS', 1)]\n"
     ]
    }
   ],
   "source": [
    "#print(tag_fd.most_common())"
   ]
  },
  {
   "cell_type": "code",
   "execution_count": 99,
   "metadata": {
    "collapsed": false
   },
   "outputs": [
    {
     "name": "stdout",
     "output_type": "stream",
     "text": [
      "[S -> COL CD N, N -> JJ NN, N -> NN, COL -> 'collect', COL -> 'gather', CD -> '1', CD -> '2', CC -> 'and', CC -> 'and', DT -> 'the', DT -> 'an', DT -> 'a', DT -> 'a', DT -> 'the', DT -> 'the', DT -> 'the', DT -> 'the', DT -> 'the', DT -> 'the', DT -> 'a', DT -> 'the', DT -> 'no', IN -> 'from', IN -> 'of', IN -> 'in', IN -> 'past', IN -> 'among', IN -> 'of', IN -> 'before', IN -> 'as', IN -> 'that', IN -> 'with', IN -> 'of', IN -> 'as', IN -> 'at', JJ -> 'past', JJ -> 'whole', JJ -> 'senani', JJ -> 'splintertree', MD -> 'shall', MD -> 'will', NN -> 'world', NN -> 'death', NN -> 'age', NN -> 'hero', NN -> 'relic', NN -> 'stand', NN -> 'i', NN -> 'legend', NN -> 'mighty', NN -> 'hippogryph', NN -> 'sharptalon', NN -> 'claw', NN -> 'beast', NN -> 'serving', NN -> 'testament', NN -> 'victory', NN -> 'thunderheart', NN -> 'post', NN -> 'doubt', NNS -> 'proud', NNS -> 'brethren', NNS -> 'weapons', NNS -> 'powers', PRP -> 'you', PRP -> 'you', PRP -> 'me', PRP -> 'you', PRP -> 'you', PRP -> 'you', RB -> 'back', RB -> 'long', RB -> 'now', RB -> 'once', RB -> 'once', RB -> 'again', TO -> 'to', VB -> 'welcome', VB -> 'i', VB -> 'restore', VBD -> 'stood', VBD -> 'were', VBG -> 'making', VBN -> 'fallen', VBN -> 'broken', VBN -> 'lost', VBN -> 'been', VBN -> 'slain', VBN -> 'felled', VBP -> 'stand', VBP -> 'awaken', VBP -> 'have', VBZ -> 'has']\n",
      "collect 1 past world\n",
      "collect 1 past death\n",
      "collect 1 past age\n",
      "collect 1 past hero\n",
      "collect 1 past relic\n",
      "collect 1 past stand\n",
      "collect 1 past i\n",
      "collect 1 past legend\n",
      "collect 1 past mighty\n",
      "collect 1 past hippogryph\n",
      "collect 1 past sharptalon\n",
      "collect 1 past claw\n",
      "collect 1 past beast\n",
      "collect 1 past serving\n",
      "collect 1 past testament\n",
      "collect 1 past victory\n",
      "collect 1 past thunderheart\n",
      "collect 1 past post\n",
      "collect 1 past doubt\n",
      "collect 1 whole world\n",
      "collect 1 whole death\n",
      "collect 1 whole age\n",
      "collect 1 whole hero\n",
      "collect 1 whole relic\n",
      "collect 1 whole stand\n",
      "collect 1 whole i\n",
      "collect 1 whole legend\n",
      "collect 1 whole mighty\n",
      "collect 1 whole hippogryph\n",
      "collect 1 whole sharptalon\n",
      "collect 1 whole claw\n",
      "collect 1 whole beast\n",
      "collect 1 whole serving\n",
      "collect 1 whole testament\n",
      "collect 1 whole victory\n",
      "collect 1 whole thunderheart\n",
      "collect 1 whole post\n",
      "collect 1 whole doubt\n",
      "collect 1 senani world\n",
      "collect 1 senani death\n",
      "collect 1 senani age\n",
      "collect 1 senani hero\n",
      "collect 1 senani relic\n",
      "collect 1 senani stand\n",
      "collect 1 senani i\n",
      "collect 1 senani legend\n",
      "collect 1 senani mighty\n",
      "collect 1 senani hippogryph\n",
      "collect 1 senani sharptalon\n",
      "collect 1 senani claw\n",
      "collect 1 senani beast\n",
      "collect 1 senani serving\n",
      "collect 1 senani testament\n",
      "collect 1 senani victory\n",
      "collect 1 senani thunderheart\n",
      "collect 1 senani post\n",
      "collect 1 senani doubt\n",
      "collect 1 splintertree world\n",
      "collect 1 splintertree death\n",
      "collect 1 splintertree age\n",
      "collect 1 splintertree hero\n",
      "collect 1 splintertree relic\n",
      "collect 1 splintertree stand\n",
      "collect 1 splintertree i\n",
      "collect 1 splintertree legend\n",
      "collect 1 splintertree mighty\n",
      "collect 1 splintertree hippogryph\n",
      "collect 1 splintertree sharptalon\n",
      "collect 1 splintertree claw\n",
      "collect 1 splintertree beast\n",
      "collect 1 splintertree serving\n",
      "collect 1 splintertree testament\n",
      "collect 1 splintertree victory\n",
      "collect 1 splintertree thunderheart\n",
      "collect 1 splintertree post\n",
      "collect 1 splintertree doubt\n",
      "collect 1 world\n",
      "collect 1 death\n",
      "collect 1 age\n",
      "collect 1 hero\n",
      "collect 1 relic\n",
      "collect 1 stand\n",
      "collect 1 i\n",
      "collect 1 legend\n",
      "collect 1 mighty\n",
      "collect 1 hippogryph\n",
      "collect 1 sharptalon\n",
      "collect 1 claw\n",
      "collect 1 beast\n",
      "collect 1 serving\n",
      "collect 1 testament\n",
      "collect 1 victory\n",
      "collect 1 thunderheart\n",
      "collect 1 post\n",
      "collect 1 doubt\n",
      "collect 2 past world\n",
      "collect 2 past death\n",
      "collect 2 past age\n",
      "collect 2 past hero\n",
      "collect 2 past relic\n"
     ]
    }
   ],
   "source": [
    "from nltk import PCFG\n",
    "from nltk.parse.generate import generate, demo_grammar\n",
    "from nltk import CFG\n",
    "from operator import itemgetter\n",
    "\n",
    "nonterms = {\".\",\",\",r\"PRP$\",\":\"}\n",
    "postags = postag[:99]\n",
    "postags.sort(key=itemgetter(1))\n",
    "\n",
    "my_grammar = \"\"\"\n",
    "  S -> COL CD N\n",
    "  N -> JJ NN\n",
    "  N -> NN\n",
    "  COL -> 'collect' | 'gather'\n",
    "\"\"\"\n",
    "my_grammar += \"  \" + \"\\n  \".join([(r\"CD -> '\" + str(num) + r\"'\") for num in range(1,3)])\n",
    "my_grammar += \"\\n  \" + \"\\n  \".join([(b + r\" -> '\" + a + r\"'\") for (a,b) in postags if b not in nonterms])\n",
    "grammar = CFG.fromstring(my_grammar)\n",
    "print(grammar.productions())\n",
    "\n",
    "for sentence in generate(grammar, n=100):\n",
    "    print(' '.join(sentence))\n",
    "\n",
    "#print(grammar)\n",
    "#grammar += \"\\n\\tN -> 'cat'\"\n",
    "#print(grammar)\n",
    "\n",
    "#print(dir(CFG))\n",
    "#print(\"\\n\")\n",
    "#print(grammar.productions)"
   ]
  }
 ],
 "metadata": {
  "kernelspec": {
   "display_name": "Python 3",
   "language": "python",
   "name": "python3"
  },
  "language_info": {
   "codemirror_mode": {
    "name": "ipython",
    "version": 3
   },
   "file_extension": ".py",
   "mimetype": "text/x-python",
   "name": "python",
   "nbconvert_exporter": "python",
   "pygments_lexer": "ipython3",
   "version": "3.5.1"
  }
 },
 "nbformat": 4,
 "nbformat_minor": 0
}
